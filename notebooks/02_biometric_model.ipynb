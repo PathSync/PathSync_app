{
 "cells": [
  {
   "cell_type": "code",
   "execution_count": null,
   "id": "initial_id",
   "metadata": {
    "collapsed": true
   },
   "outputs": [],
   "source": [
    "# Biometric Model Training Notebook\n",
    "from src.biometric_train import train_biometric_model\n",
    "\n",
    "# Train the model\n",
    "model, preprocessing_info = train_biometric_model('../data/sample_biometric.csv')\n",
    "\n",
    "print(\"Model training completed!\")\n",
    "print(\"Preprocessing information:\", preprocessing_info)"
   ]
  }
 ],
 "metadata": {
  "kernelspec": {
   "display_name": "Python 3",
   "language": "python",
   "name": "python3"
  },
  "language_info": {
   "codemirror_mode": {
    "name": "ipython",
    "version": 2
   },
   "file_extension": ".py",
   "mimetype": "text/x-python",
   "name": "python",
   "nbconvert_exporter": "python",
   "pygments_lexer": "ipython2",
   "version": "2.7.6"
  }
 },
 "nbformat": 4,
 "nbformat_minor": 5
}
